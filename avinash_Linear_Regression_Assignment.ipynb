{
 "cells": [
  {
   "cell_type": "markdown",
   "id": "ca9eac7f-d599-4872-a76e-efa8b5f34fee",
   "metadata": {},
   "source": [
    "# EE658/758 Machine Learning in Engineering Assignment"
   ]
  },
  {
   "cell_type": "markdown",
   "id": "921eb5ee-3ce4-49bd-b5e1-d7e720bb4f9c",
   "metadata": {
    "jp-MarkdownHeadingCollapsed": true
   },
   "source": [
    "## 1. Data Preprocessing"
   ]
  },
  {
   "cell_type": "code",
   "execution_count": 2,
   "id": "c5185b2a-6e52-4cad-9c3a-c7e6712429ff",
   "metadata": {
    "scrolled": true
   },
   "outputs": [
    {
     "data": {
      "text/html": [
       "<div>\n",
       "<style scoped>\n",
       "    .dataframe tbody tr th:only-of-type {\n",
       "        vertical-align: middle;\n",
       "    }\n",
       "\n",
       "    .dataframe tbody tr th {\n",
       "        vertical-align: top;\n",
       "    }\n",
       "\n",
       "    .dataframe thead th {\n",
       "        text-align: right;\n",
       "    }\n",
       "</style>\n",
       "<table border=\"1\" class=\"dataframe\">\n",
       "  <thead>\n",
       "    <tr style=\"text-align: right;\">\n",
       "      <th></th>\n",
       "      <th>Age</th>\n",
       "      <th>Gender</th>\n",
       "      <th>BMI</th>\n",
       "      <th>Children</th>\n",
       "      <th>Smoker</th>\n",
       "      <th>Region</th>\n",
       "      <th>Expenses</th>\n",
       "    </tr>\n",
       "  </thead>\n",
       "  <tbody>\n",
       "    <tr>\n",
       "      <th>0</th>\n",
       "      <td>19</td>\n",
       "      <td>female</td>\n",
       "      <td>27.9</td>\n",
       "      <td>0</td>\n",
       "      <td>yes</td>\n",
       "      <td>southwest</td>\n",
       "      <td>16884.92</td>\n",
       "    </tr>\n",
       "    <tr>\n",
       "      <th>1</th>\n",
       "      <td>18</td>\n",
       "      <td>male</td>\n",
       "      <td>33.8</td>\n",
       "      <td>1</td>\n",
       "      <td>no</td>\n",
       "      <td>southeast</td>\n",
       "      <td>1725.55</td>\n",
       "    </tr>\n",
       "    <tr>\n",
       "      <th>2</th>\n",
       "      <td>28</td>\n",
       "      <td>male</td>\n",
       "      <td>33.0</td>\n",
       "      <td>3</td>\n",
       "      <td>no</td>\n",
       "      <td>southeast</td>\n",
       "      <td>4449.46</td>\n",
       "    </tr>\n",
       "    <tr>\n",
       "      <th>3</th>\n",
       "      <td>33</td>\n",
       "      <td>male</td>\n",
       "      <td>22.7</td>\n",
       "      <td>0</td>\n",
       "      <td>no</td>\n",
       "      <td>northwest</td>\n",
       "      <td>21984.47</td>\n",
       "    </tr>\n",
       "    <tr>\n",
       "      <th>4</th>\n",
       "      <td>32</td>\n",
       "      <td>male</td>\n",
       "      <td>28.9</td>\n",
       "      <td>0</td>\n",
       "      <td>no</td>\n",
       "      <td>northwest</td>\n",
       "      <td>3866.86</td>\n",
       "    </tr>\n",
       "  </tbody>\n",
       "</table>\n",
       "</div>"
      ],
      "text/plain": [
       "   Age  Gender   BMI  Children Smoker     Region  Expenses\n",
       "0   19  female  27.9         0    yes  southwest  16884.92\n",
       "1   18    male  33.8         1     no  southeast   1725.55\n",
       "2   28    male  33.0         3     no  southeast   4449.46\n",
       "3   33    male  22.7         0     no  northwest  21984.47\n",
       "4   32    male  28.9         0     no  northwest   3866.86"
      ]
     },
     "execution_count": 2,
     "metadata": {},
     "output_type": "execute_result"
    }
   ],
   "source": [
    "# Libraries \n",
    "import numpy as np \n",
    "import pandas as pd \n",
    "import matplotlib.pyplot as plt\n",
    "from sklearn.model_selection import train_test_split # For Data Splitting \n",
    "df = pd.read_csv('insurance.csv')\n",
    "df.head()"
   ]
  },
  {
   "cell_type": "code",
   "execution_count": 3,
   "id": "18c58f72-a52a-4fa9-a69c-302c42a08513",
   "metadata": {},
   "outputs": [
    {
     "data": {
      "text/plain": [
       "(1338, 7)"
      ]
     },
     "execution_count": 3,
     "metadata": {},
     "output_type": "execute_result"
    }
   ],
   "source": [
    "df.shape"
   ]
  },
  {
   "cell_type": "code",
   "execution_count": 4,
   "id": "3e4dcba3-883e-4b0a-a826-c9f39d9a7f16",
   "metadata": {},
   "outputs": [
    {
     "data": {
      "text/plain": [
       "Age           int64\n",
       "Gender       object\n",
       "BMI         float64\n",
       "Children      int64\n",
       "Smoker       object\n",
       "Region       object\n",
       "Expenses    float64\n",
       "dtype: object"
      ]
     },
     "execution_count": 4,
     "metadata": {},
     "output_type": "execute_result"
    }
   ],
   "source": [
    "df.dtypes"
   ]
  },
  {
   "cell_type": "code",
   "execution_count": 5,
   "id": "686caf8f-1abd-46d1-ad9d-c3032d6c0f2b",
   "metadata": {},
   "outputs": [
    {
     "name": "stdout",
     "output_type": "stream",
     "text": [
      "<class 'pandas.core.frame.DataFrame'>\n",
      "RangeIndex: 1338 entries, 0 to 1337\n",
      "Data columns (total 7 columns):\n",
      " #   Column    Non-Null Count  Dtype  \n",
      "---  ------    --------------  -----  \n",
      " 0   Age       1338 non-null   int64  \n",
      " 1   Gender    1332 non-null   object \n",
      " 2   BMI       1330 non-null   float64\n",
      " 3   Children  1338 non-null   int64  \n",
      " 4   Smoker    1338 non-null   object \n",
      " 5   Region    1336 non-null   object \n",
      " 6   Expenses  1337 non-null   float64\n",
      "dtypes: float64(2), int64(2), object(3)\n",
      "memory usage: 73.3+ KB\n"
     ]
    }
   ],
   "source": [
    "df.info()"
   ]
  },
  {
   "cell_type": "code",
   "execution_count": 6,
   "id": "26dc5ac1-28c7-45c3-b34b-99dfe1b0f1d0",
   "metadata": {},
   "outputs": [
    {
     "data": {
      "text/html": [
       "<div>\n",
       "<style scoped>\n",
       "    .dataframe tbody tr th:only-of-type {\n",
       "        vertical-align: middle;\n",
       "    }\n",
       "\n",
       "    .dataframe tbody tr th {\n",
       "        vertical-align: top;\n",
       "    }\n",
       "\n",
       "    .dataframe thead th {\n",
       "        text-align: right;\n",
       "    }\n",
       "</style>\n",
       "<table border=\"1\" class=\"dataframe\">\n",
       "  <thead>\n",
       "    <tr style=\"text-align: right;\">\n",
       "      <th></th>\n",
       "      <th>Age</th>\n",
       "      <th>BMI</th>\n",
       "      <th>Children</th>\n",
       "      <th>Expenses</th>\n",
       "    </tr>\n",
       "  </thead>\n",
       "  <tbody>\n",
       "    <tr>\n",
       "      <th>count</th>\n",
       "      <td>1338.000000</td>\n",
       "      <td>1330.000000</td>\n",
       "      <td>1338.000000</td>\n",
       "      <td>1337.000000</td>\n",
       "    </tr>\n",
       "    <tr>\n",
       "      <th>mean</th>\n",
       "      <td>39.207025</td>\n",
       "      <td>30.676917</td>\n",
       "      <td>1.136024</td>\n",
       "      <td>13273.306111</td>\n",
       "    </tr>\n",
       "    <tr>\n",
       "      <th>std</th>\n",
       "      <td>14.049960</td>\n",
       "      <td>6.094868</td>\n",
       "      <td>3.194662</td>\n",
       "      <td>12114.083012</td>\n",
       "    </tr>\n",
       "    <tr>\n",
       "      <th>min</th>\n",
       "      <td>18.000000</td>\n",
       "      <td>16.000000</td>\n",
       "      <td>-65.000000</td>\n",
       "      <td>1121.870000</td>\n",
       "    </tr>\n",
       "    <tr>\n",
       "      <th>25%</th>\n",
       "      <td>27.000000</td>\n",
       "      <td>26.300000</td>\n",
       "      <td>0.000000</td>\n",
       "      <td>4738.270000</td>\n",
       "    </tr>\n",
       "    <tr>\n",
       "      <th>50%</th>\n",
       "      <td>39.000000</td>\n",
       "      <td>30.400000</td>\n",
       "      <td>1.000000</td>\n",
       "      <td>9377.900000</td>\n",
       "    </tr>\n",
       "    <tr>\n",
       "      <th>75%</th>\n",
       "      <td>51.000000</td>\n",
       "      <td>34.700000</td>\n",
       "      <td>2.000000</td>\n",
       "      <td>16657.720000</td>\n",
       "    </tr>\n",
       "    <tr>\n",
       "      <th>max</th>\n",
       "      <td>64.000000</td>\n",
       "      <td>53.100000</td>\n",
       "      <td>70.000000</td>\n",
       "      <td>63770.430000</td>\n",
       "    </tr>\n",
       "  </tbody>\n",
       "</table>\n",
       "</div>"
      ],
      "text/plain": [
       "               Age          BMI     Children      Expenses\n",
       "count  1338.000000  1330.000000  1338.000000   1337.000000\n",
       "mean     39.207025    30.676917     1.136024  13273.306111\n",
       "std      14.049960     6.094868     3.194662  12114.083012\n",
       "min      18.000000    16.000000   -65.000000   1121.870000\n",
       "25%      27.000000    26.300000     0.000000   4738.270000\n",
       "50%      39.000000    30.400000     1.000000   9377.900000\n",
       "75%      51.000000    34.700000     2.000000  16657.720000\n",
       "max      64.000000    53.100000    70.000000  63770.430000"
      ]
     },
     "execution_count": 6,
     "metadata": {},
     "output_type": "execute_result"
    }
   ],
   "source": [
    "df.describe()"
   ]
  },
  {
   "cell_type": "code",
   "execution_count": 7,
   "id": "142c3bda-cd5f-4a17-8172-ff60247630ac",
   "metadata": {},
   "outputs": [
    {
     "data": {
      "text/plain": [
       "Age         0\n",
       "Gender      6\n",
       "BMI         8\n",
       "Children    0\n",
       "Smoker      0\n",
       "Region      2\n",
       "Expenses    1\n",
       "dtype: int64"
      ]
     },
     "execution_count": 7,
     "metadata": {},
     "output_type": "execute_result"
    }
   ],
   "source": [
    "df.isnull().sum()"
   ]
  },
  {
   "cell_type": "code",
   "execution_count": 8,
   "id": "57f3aaf7-3e66-4814-b429-9b56e00753e6",
   "metadata": {},
   "outputs": [
    {
     "data": {
      "text/html": [
       "<div>\n",
       "<style scoped>\n",
       "    .dataframe tbody tr th:only-of-type {\n",
       "        vertical-align: middle;\n",
       "    }\n",
       "\n",
       "    .dataframe tbody tr th {\n",
       "        vertical-align: top;\n",
       "    }\n",
       "\n",
       "    .dataframe thead th {\n",
       "        text-align: right;\n",
       "    }\n",
       "</style>\n",
       "<table border=\"1\" class=\"dataframe\">\n",
       "  <thead>\n",
       "    <tr style=\"text-align: right;\">\n",
       "      <th></th>\n",
       "      <th>Age</th>\n",
       "      <th>Gender</th>\n",
       "      <th>BMI</th>\n",
       "      <th>Children</th>\n",
       "      <th>Smoker</th>\n",
       "      <th>Region</th>\n",
       "      <th>Expenses</th>\n",
       "    </tr>\n",
       "  </thead>\n",
       "  <tbody>\n",
       "    <tr>\n",
       "      <th>425</th>\n",
       "      <td>45</td>\n",
       "      <td>NaN</td>\n",
       "      <td>24.3</td>\n",
       "      <td>5</td>\n",
       "      <td>no</td>\n",
       "      <td>southeast</td>\n",
       "      <td>9788.87</td>\n",
       "    </tr>\n",
       "    <tr>\n",
       "      <th>572</th>\n",
       "      <td>30</td>\n",
       "      <td>NaN</td>\n",
       "      <td>43.1</td>\n",
       "      <td>2</td>\n",
       "      <td>no</td>\n",
       "      <td>southeast</td>\n",
       "      <td>4753.64</td>\n",
       "    </tr>\n",
       "    <tr>\n",
       "      <th>729</th>\n",
       "      <td>41</td>\n",
       "      <td>NaN</td>\n",
       "      <td>36.1</td>\n",
       "      <td>1</td>\n",
       "      <td>no</td>\n",
       "      <td>southeast</td>\n",
       "      <td>6781.35</td>\n",
       "    </tr>\n",
       "    <tr>\n",
       "      <th>914</th>\n",
       "      <td>33</td>\n",
       "      <td>NaN</td>\n",
       "      <td>24.6</td>\n",
       "      <td>2</td>\n",
       "      <td>no</td>\n",
       "      <td>northwest</td>\n",
       "      <td>5257.51</td>\n",
       "    </tr>\n",
       "    <tr>\n",
       "      <th>1313</th>\n",
       "      <td>19</td>\n",
       "      <td>NaN</td>\n",
       "      <td>34.7</td>\n",
       "      <td>2</td>\n",
       "      <td>yes</td>\n",
       "      <td>southwest</td>\n",
       "      <td>36397.58</td>\n",
       "    </tr>\n",
       "    <tr>\n",
       "      <th>1334</th>\n",
       "      <td>18</td>\n",
       "      <td>NaN</td>\n",
       "      <td>31.9</td>\n",
       "      <td>0</td>\n",
       "      <td>no</td>\n",
       "      <td>northeast</td>\n",
       "      <td>2205.98</td>\n",
       "    </tr>\n",
       "  </tbody>\n",
       "</table>\n",
       "</div>"
      ],
      "text/plain": [
       "      Age Gender   BMI  Children Smoker     Region  Expenses\n",
       "425    45    NaN  24.3         5     no  southeast   9788.87\n",
       "572    30    NaN  43.1         2     no  southeast   4753.64\n",
       "729    41    NaN  36.1         1     no  southeast   6781.35\n",
       "914    33    NaN  24.6         2     no  northwest   5257.51\n",
       "1313   19    NaN  34.7         2    yes  southwest  36397.58\n",
       "1334   18    NaN  31.9         0     no  northeast   2205.98"
      ]
     },
     "execution_count": 8,
     "metadata": {},
     "output_type": "execute_result"
    }
   ],
   "source": [
    "df[df['Gender'].isnull()]"
   ]
  },
  {
   "cell_type": "code",
   "execution_count": 9,
   "id": "0ee4d2e8-25a9-409f-8a6e-85bccf483046",
   "metadata": {},
   "outputs": [
    {
     "data": {
      "text/html": [
       "<div>\n",
       "<style scoped>\n",
       "    .dataframe tbody tr th:only-of-type {\n",
       "        vertical-align: middle;\n",
       "    }\n",
       "\n",
       "    .dataframe tbody tr th {\n",
       "        vertical-align: top;\n",
       "    }\n",
       "\n",
       "    .dataframe thead th {\n",
       "        text-align: right;\n",
       "    }\n",
       "</style>\n",
       "<table border=\"1\" class=\"dataframe\">\n",
       "  <thead>\n",
       "    <tr style=\"text-align: right;\">\n",
       "      <th></th>\n",
       "      <th>Age</th>\n",
       "      <th>Gender</th>\n",
       "      <th>BMI</th>\n",
       "      <th>Children</th>\n",
       "      <th>Smoker</th>\n",
       "      <th>Region</th>\n",
       "      <th>Expenses</th>\n",
       "    </tr>\n",
       "  </thead>\n",
       "  <tbody>\n",
       "    <tr>\n",
       "      <th>8</th>\n",
       "      <td>37</td>\n",
       "      <td>male</td>\n",
       "      <td>NaN</td>\n",
       "      <td>2</td>\n",
       "      <td>no</td>\n",
       "      <td>northeast</td>\n",
       "      <td>6406.41</td>\n",
       "    </tr>\n",
       "    <tr>\n",
       "      <th>283</th>\n",
       "      <td>55</td>\n",
       "      <td>female</td>\n",
       "      <td>NaN</td>\n",
       "      <td>1</td>\n",
       "      <td>no</td>\n",
       "      <td>northeast</td>\n",
       "      <td>11879.10</td>\n",
       "    </tr>\n",
       "    <tr>\n",
       "      <th>580</th>\n",
       "      <td>59</td>\n",
       "      <td>male</td>\n",
       "      <td>NaN</td>\n",
       "      <td>1</td>\n",
       "      <td>no</td>\n",
       "      <td>northeast</td>\n",
       "      <td>12913.99</td>\n",
       "    </tr>\n",
       "    <tr>\n",
       "      <th>769</th>\n",
       "      <td>38</td>\n",
       "      <td>female</td>\n",
       "      <td>NaN</td>\n",
       "      <td>2</td>\n",
       "      <td>no</td>\n",
       "      <td>northwest</td>\n",
       "      <td>6933.24</td>\n",
       "    </tr>\n",
       "    <tr>\n",
       "      <th>946</th>\n",
       "      <td>42</td>\n",
       "      <td>male</td>\n",
       "      <td>NaN</td>\n",
       "      <td>2</td>\n",
       "      <td>no</td>\n",
       "      <td>southwest</td>\n",
       "      <td>7160.09</td>\n",
       "    </tr>\n",
       "    <tr>\n",
       "      <th>1100</th>\n",
       "      <td>33</td>\n",
       "      <td>female</td>\n",
       "      <td>NaN</td>\n",
       "      <td>2</td>\n",
       "      <td>yes</td>\n",
       "      <td>northeast</td>\n",
       "      <td>16776.30</td>\n",
       "    </tr>\n",
       "    <tr>\n",
       "      <th>1235</th>\n",
       "      <td>26</td>\n",
       "      <td>male</td>\n",
       "      <td>NaN</td>\n",
       "      <td>0</td>\n",
       "      <td>no</td>\n",
       "      <td>northwest</td>\n",
       "      <td>2699.57</td>\n",
       "    </tr>\n",
       "    <tr>\n",
       "      <th>1335</th>\n",
       "      <td>18</td>\n",
       "      <td>female</td>\n",
       "      <td>NaN</td>\n",
       "      <td>0</td>\n",
       "      <td>no</td>\n",
       "      <td>southeast</td>\n",
       "      <td>1629.83</td>\n",
       "    </tr>\n",
       "  </tbody>\n",
       "</table>\n",
       "</div>"
      ],
      "text/plain": [
       "      Age  Gender  BMI  Children Smoker     Region  Expenses\n",
       "8      37    male  NaN         2     no  northeast   6406.41\n",
       "283    55  female  NaN         1     no  northeast  11879.10\n",
       "580    59    male  NaN         1     no  northeast  12913.99\n",
       "769    38  female  NaN         2     no  northwest   6933.24\n",
       "946    42    male  NaN         2     no  southwest   7160.09\n",
       "1100   33  female  NaN         2    yes  northeast  16776.30\n",
       "1235   26    male  NaN         0     no  northwest   2699.57\n",
       "1335   18  female  NaN         0     no  southeast   1629.83"
      ]
     },
     "execution_count": 9,
     "metadata": {},
     "output_type": "execute_result"
    }
   ],
   "source": [
    "df[df['BMI'].isnull()]"
   ]
  },
  {
   "cell_type": "code",
   "execution_count": 10,
   "id": "88c911c7-a269-45f4-9b5c-b7467b2e4a82",
   "metadata": {},
   "outputs": [
    {
     "data": {
      "text/html": [
       "<div>\n",
       "<style scoped>\n",
       "    .dataframe tbody tr th:only-of-type {\n",
       "        vertical-align: middle;\n",
       "    }\n",
       "\n",
       "    .dataframe tbody tr th {\n",
       "        vertical-align: top;\n",
       "    }\n",
       "\n",
       "    .dataframe thead th {\n",
       "        text-align: right;\n",
       "    }\n",
       "</style>\n",
       "<table border=\"1\" class=\"dataframe\">\n",
       "  <thead>\n",
       "    <tr style=\"text-align: right;\">\n",
       "      <th></th>\n",
       "      <th>Age</th>\n",
       "      <th>Gender</th>\n",
       "      <th>BMI</th>\n",
       "      <th>Children</th>\n",
       "      <th>Smoker</th>\n",
       "      <th>Region</th>\n",
       "      <th>Expenses</th>\n",
       "    </tr>\n",
       "  </thead>\n",
       "  <tbody>\n",
       "    <tr>\n",
       "      <th>810</th>\n",
       "      <td>46</td>\n",
       "      <td>female</td>\n",
       "      <td>30.8</td>\n",
       "      <td>3</td>\n",
       "      <td>no</td>\n",
       "      <td>southwest</td>\n",
       "      <td>NaN</td>\n",
       "    </tr>\n",
       "  </tbody>\n",
       "</table>\n",
       "</div>"
      ],
      "text/plain": [
       "     Age  Gender   BMI  Children Smoker     Region  Expenses\n",
       "810   46  female  30.8         3     no  southwest       NaN"
      ]
     },
     "execution_count": 10,
     "metadata": {},
     "output_type": "execute_result"
    }
   ],
   "source": [
    "df[df['Expenses'].isnull()]"
   ]
  },
  {
   "cell_type": "code",
   "execution_count": 11,
   "id": "c4d4f6ff-ba43-4b2b-89e3-107b448741d0",
   "metadata": {},
   "outputs": [
    {
     "data": {
      "text/html": [
       "<div>\n",
       "<style scoped>\n",
       "    .dataframe tbody tr th:only-of-type {\n",
       "        vertical-align: middle;\n",
       "    }\n",
       "\n",
       "    .dataframe tbody tr th {\n",
       "        vertical-align: top;\n",
       "    }\n",
       "\n",
       "    .dataframe thead th {\n",
       "        text-align: right;\n",
       "    }\n",
       "</style>\n",
       "<table border=\"1\" class=\"dataframe\">\n",
       "  <thead>\n",
       "    <tr style=\"text-align: right;\">\n",
       "      <th></th>\n",
       "      <th>Age</th>\n",
       "      <th>Gender</th>\n",
       "      <th>BMI</th>\n",
       "      <th>Children</th>\n",
       "      <th>Smoker</th>\n",
       "      <th>Region</th>\n",
       "      <th>Expenses</th>\n",
       "    </tr>\n",
       "  </thead>\n",
       "  <tbody>\n",
       "    <tr>\n",
       "      <th>652</th>\n",
       "      <td>48</td>\n",
       "      <td>female</td>\n",
       "      <td>31.1</td>\n",
       "      <td>0</td>\n",
       "      <td>no</td>\n",
       "      <td>NaN</td>\n",
       "      <td>8280.62</td>\n",
       "    </tr>\n",
       "    <tr>\n",
       "      <th>788</th>\n",
       "      <td>29</td>\n",
       "      <td>male</td>\n",
       "      <td>22.5</td>\n",
       "      <td>3</td>\n",
       "      <td>no</td>\n",
       "      <td>NaN</td>\n",
       "      <td>5209.58</td>\n",
       "    </tr>\n",
       "  </tbody>\n",
       "</table>\n",
       "</div>"
      ],
      "text/plain": [
       "     Age  Gender   BMI  Children Smoker Region  Expenses\n",
       "652   48  female  31.1         0     no    NaN   8280.62\n",
       "788   29    male  22.5         3     no    NaN   5209.58"
      ]
     },
     "execution_count": 11,
     "metadata": {},
     "output_type": "execute_result"
    }
   ],
   "source": [
    "df[df['Region'].isnull()]"
   ]
  },
  {
   "cell_type": "code",
   "execution_count": 12,
   "id": "55e3b08c-932c-4a07-924d-a2caa656e158",
   "metadata": {},
   "outputs": [],
   "source": [
    "df.dropna(inplace=True)"
   ]
  },
  {
   "cell_type": "code",
   "execution_count": 13,
   "id": "b9b81fbc-6dbc-49b7-af2d-0d5cb9393d49",
   "metadata": {},
   "outputs": [
    {
     "data": {
      "text/plain": [
       "Age         0\n",
       "Gender      0\n",
       "BMI         0\n",
       "Children    0\n",
       "Smoker      0\n",
       "Region      0\n",
       "Expenses    0\n",
       "dtype: int64"
      ]
     },
     "execution_count": 13,
     "metadata": {},
     "output_type": "execute_result"
    }
   ],
   "source": [
    "df.isnull().sum()"
   ]
  },
  {
   "cell_type": "code",
   "execution_count": 14,
   "id": "869b712a-a232-4e64-b6ff-2dee995d3779",
   "metadata": {
    "scrolled": true
   },
   "outputs": [
    {
     "data": {
      "text/html": [
       "<div>\n",
       "<style scoped>\n",
       "    .dataframe tbody tr th:only-of-type {\n",
       "        vertical-align: middle;\n",
       "    }\n",
       "\n",
       "    .dataframe tbody tr th {\n",
       "        vertical-align: top;\n",
       "    }\n",
       "\n",
       "    .dataframe thead th {\n",
       "        text-align: right;\n",
       "    }\n",
       "</style>\n",
       "<table border=\"1\" class=\"dataframe\">\n",
       "  <thead>\n",
       "    <tr style=\"text-align: right;\">\n",
       "      <th></th>\n",
       "      <th>Age</th>\n",
       "      <th>Gender</th>\n",
       "      <th>BMI</th>\n",
       "      <th>Children</th>\n",
       "      <th>Smoker</th>\n",
       "      <th>Region</th>\n",
       "      <th>Expenses</th>\n",
       "    </tr>\n",
       "  </thead>\n",
       "  <tbody>\n",
       "    <tr>\n",
       "      <th>581</th>\n",
       "      <td>19</td>\n",
       "      <td>male</td>\n",
       "      <td>30.6</td>\n",
       "      <td>0</td>\n",
       "      <td>no</td>\n",
       "      <td>northwest</td>\n",
       "      <td>1639.56</td>\n",
       "    </tr>\n",
       "  </tbody>\n",
       "</table>\n",
       "</div>"
      ],
      "text/plain": [
       "     Age Gender   BMI  Children Smoker     Region  Expenses\n",
       "581   19   male  30.6         0     no  northwest   1639.56"
      ]
     },
     "execution_count": 14,
     "metadata": {},
     "output_type": "execute_result"
    }
   ],
   "source": [
    "df[df.duplicated()]"
   ]
  },
  {
   "cell_type": "code",
   "execution_count": 15,
   "id": "aa27435b-d419-4838-b04b-00febb0f722a",
   "metadata": {},
   "outputs": [
    {
     "data": {
      "text/html": [
       "<div>\n",
       "<style scoped>\n",
       "    .dataframe tbody tr th:only-of-type {\n",
       "        vertical-align: middle;\n",
       "    }\n",
       "\n",
       "    .dataframe tbody tr th {\n",
       "        vertical-align: top;\n",
       "    }\n",
       "\n",
       "    .dataframe thead th {\n",
       "        text-align: right;\n",
       "    }\n",
       "</style>\n",
       "<table border=\"1\" class=\"dataframe\">\n",
       "  <thead>\n",
       "    <tr style=\"text-align: right;\">\n",
       "      <th></th>\n",
       "      <th>Age</th>\n",
       "      <th>Gender</th>\n",
       "      <th>BMI</th>\n",
       "      <th>Children</th>\n",
       "      <th>Smoker</th>\n",
       "      <th>Region</th>\n",
       "      <th>Expenses</th>\n",
       "    </tr>\n",
       "  </thead>\n",
       "  <tbody>\n",
       "    <tr>\n",
       "      <th>195</th>\n",
       "      <td>19</td>\n",
       "      <td>male</td>\n",
       "      <td>30.6</td>\n",
       "      <td>0</td>\n",
       "      <td>no</td>\n",
       "      <td>northwest</td>\n",
       "      <td>1639.56</td>\n",
       "    </tr>\n",
       "    <tr>\n",
       "      <th>581</th>\n",
       "      <td>19</td>\n",
       "      <td>male</td>\n",
       "      <td>30.6</td>\n",
       "      <td>0</td>\n",
       "      <td>no</td>\n",
       "      <td>northwest</td>\n",
       "      <td>1639.56</td>\n",
       "    </tr>\n",
       "  </tbody>\n",
       "</table>\n",
       "</div>"
      ],
      "text/plain": [
       "     Age Gender   BMI  Children Smoker     Region  Expenses\n",
       "195   19   male  30.6         0     no  northwest   1639.56\n",
       "581   19   male  30.6         0     no  northwest   1639.56"
      ]
     },
     "execution_count": 15,
     "metadata": {},
     "output_type": "execute_result"
    }
   ],
   "source": [
    "df[(df['Age'] == 19) & (df['Gender'] =='male') & (df['BMI'] == 30.6)]"
   ]
  },
  {
   "cell_type": "code",
   "execution_count": 16,
   "id": "ef658cfc-1df4-4fda-8beb-b2a440864a4c",
   "metadata": {},
   "outputs": [],
   "source": [
    "df.drop_duplicates(inplace=True)"
   ]
  },
  {
   "cell_type": "code",
   "execution_count": 17,
   "id": "e2933adb-442c-4d85-b85e-c5fb9fc4a0f6",
   "metadata": {},
   "outputs": [
    {
     "data": {
      "text/html": [
       "<div>\n",
       "<style scoped>\n",
       "    .dataframe tbody tr th:only-of-type {\n",
       "        vertical-align: middle;\n",
       "    }\n",
       "\n",
       "    .dataframe tbody tr th {\n",
       "        vertical-align: top;\n",
       "    }\n",
       "\n",
       "    .dataframe thead th {\n",
       "        text-align: right;\n",
       "    }\n",
       "</style>\n",
       "<table border=\"1\" class=\"dataframe\">\n",
       "  <thead>\n",
       "    <tr style=\"text-align: right;\">\n",
       "      <th></th>\n",
       "      <th>Age</th>\n",
       "      <th>Gender</th>\n",
       "      <th>BMI</th>\n",
       "      <th>Children</th>\n",
       "      <th>Smoker</th>\n",
       "      <th>Region</th>\n",
       "      <th>Expenses</th>\n",
       "    </tr>\n",
       "  </thead>\n",
       "  <tbody>\n",
       "  </tbody>\n",
       "</table>\n",
       "</div>"
      ],
      "text/plain": [
       "Empty DataFrame\n",
       "Columns: [Age, Gender, BMI, Children, Smoker, Region, Expenses]\n",
       "Index: []"
      ]
     },
     "execution_count": 17,
     "metadata": {},
     "output_type": "execute_result"
    }
   ],
   "source": [
    "df[df.duplicated()]"
   ]
  },
  {
   "cell_type": "code",
   "execution_count": 18,
   "id": "5947db44-32fb-4ee0-8914-cb8b18fca011",
   "metadata": {},
   "outputs": [
    {
     "data": {
      "text/plain": [
       "Gender\n",
       "male      668\n",
       "female    652\n",
       "Name: count, dtype: int64"
      ]
     },
     "execution_count": 18,
     "metadata": {},
     "output_type": "execute_result"
    }
   ],
   "source": [
    "df['Gender'].value_counts()"
   ]
  },
  {
   "cell_type": "code",
   "execution_count": 19,
   "id": "c9dafe46-354e-4d59-b8a9-387162392a5d",
   "metadata": {},
   "outputs": [
    {
     "data": {
      "text/plain": [
       "Smoker\n",
       "no     1048\n",
       "yes     272\n",
       "Name: count, dtype: int64"
      ]
     },
     "execution_count": 19,
     "metadata": {},
     "output_type": "execute_result"
    }
   ],
   "source": [
    "df['Smoker'].value_counts()"
   ]
  },
  {
   "cell_type": "code",
   "execution_count": 20,
   "id": "c549d0cc-c2f2-4ab4-8097-52906d37e10c",
   "metadata": {},
   "outputs": [
    {
     "data": {
      "text/plain": [
       "Region\n",
       "southeast    359\n",
       "southwest    322\n",
       "northwest    321\n",
       "northeast    318\n",
       "Name: count, dtype: int64"
      ]
     },
     "execution_count": 20,
     "metadata": {},
     "output_type": "execute_result"
    }
   ],
   "source": [
    "df['Region'].value_counts()"
   ]
  },
  {
   "cell_type": "markdown",
   "id": "65eb0520-bae3-428b-b59b-2b0df9b9c4ea",
   "metadata": {
    "jp-MarkdownHeadingCollapsed": true
   },
   "source": [
    "### Encoding "
   ]
  },
  {
   "cell_type": "code",
   "execution_count": 21,
   "id": "fd4c088c-69a1-4860-8ec7-cd69cc99501c",
   "metadata": {},
   "outputs": [],
   "source": [
    "gender_mapping = {'male': 0, 'female': 1}\n",
    "smoker_mapping = {'no': 0, 'yes': 1}\n",
    "\n",
    "df['Gender'] = df['Gender'].map(gender_mapping)\n",
    "df['Smoker'] = df['Smoker'].map(smoker_mapping)"
   ]
  },
  {
   "cell_type": "code",
   "execution_count": 22,
   "id": "fb8938cd-efd1-4b83-9bdf-17cddaf364fc",
   "metadata": {},
   "outputs": [
    {
     "data": {
      "text/html": [
       "<div>\n",
       "<style scoped>\n",
       "    .dataframe tbody tr th:only-of-type {\n",
       "        vertical-align: middle;\n",
       "    }\n",
       "\n",
       "    .dataframe tbody tr th {\n",
       "        vertical-align: top;\n",
       "    }\n",
       "\n",
       "    .dataframe thead th {\n",
       "        text-align: right;\n",
       "    }\n",
       "</style>\n",
       "<table border=\"1\" class=\"dataframe\">\n",
       "  <thead>\n",
       "    <tr style=\"text-align: right;\">\n",
       "      <th></th>\n",
       "      <th>Age</th>\n",
       "      <th>Gender</th>\n",
       "      <th>BMI</th>\n",
       "      <th>Children</th>\n",
       "      <th>Smoker</th>\n",
       "      <th>Region</th>\n",
       "      <th>Expenses</th>\n",
       "    </tr>\n",
       "  </thead>\n",
       "  <tbody>\n",
       "    <tr>\n",
       "      <th>0</th>\n",
       "      <td>19</td>\n",
       "      <td>1</td>\n",
       "      <td>27.9</td>\n",
       "      <td>0</td>\n",
       "      <td>1</td>\n",
       "      <td>southwest</td>\n",
       "      <td>16884.92</td>\n",
       "    </tr>\n",
       "    <tr>\n",
       "      <th>1</th>\n",
       "      <td>18</td>\n",
       "      <td>0</td>\n",
       "      <td>33.8</td>\n",
       "      <td>1</td>\n",
       "      <td>0</td>\n",
       "      <td>southeast</td>\n",
       "      <td>1725.55</td>\n",
       "    </tr>\n",
       "    <tr>\n",
       "      <th>2</th>\n",
       "      <td>28</td>\n",
       "      <td>0</td>\n",
       "      <td>33.0</td>\n",
       "      <td>3</td>\n",
       "      <td>0</td>\n",
       "      <td>southeast</td>\n",
       "      <td>4449.46</td>\n",
       "    </tr>\n",
       "    <tr>\n",
       "      <th>3</th>\n",
       "      <td>33</td>\n",
       "      <td>0</td>\n",
       "      <td>22.7</td>\n",
       "      <td>0</td>\n",
       "      <td>0</td>\n",
       "      <td>northwest</td>\n",
       "      <td>21984.47</td>\n",
       "    </tr>\n",
       "    <tr>\n",
       "      <th>4</th>\n",
       "      <td>32</td>\n",
       "      <td>0</td>\n",
       "      <td>28.9</td>\n",
       "      <td>0</td>\n",
       "      <td>0</td>\n",
       "      <td>northwest</td>\n",
       "      <td>3866.86</td>\n",
       "    </tr>\n",
       "  </tbody>\n",
       "</table>\n",
       "</div>"
      ],
      "text/plain": [
       "   Age  Gender   BMI  Children  Smoker     Region  Expenses\n",
       "0   19       1  27.9         0       1  southwest  16884.92\n",
       "1   18       0  33.8         1       0  southeast   1725.55\n",
       "2   28       0  33.0         3       0  southeast   4449.46\n",
       "3   33       0  22.7         0       0  northwest  21984.47\n",
       "4   32       0  28.9         0       0  northwest   3866.86"
      ]
     },
     "execution_count": 22,
     "metadata": {},
     "output_type": "execute_result"
    }
   ],
   "source": [
    "df.head()"
   ]
  },
  {
   "cell_type": "code",
   "execution_count": 23,
   "id": "60679706-eb07-4456-8b80-8a641a7f169a",
   "metadata": {},
   "outputs": [],
   "source": [
    "region_mapping = {'southeast': 1, 'southwest': 2, 'northwest': 3, 'northeast': 4}\n",
    "df['Region'] = df['Region'].map(region_mapping)"
   ]
  },
  {
   "cell_type": "code",
   "execution_count": 24,
   "id": "1c4c173d-e280-40e8-bbd3-d48e9f6019d2",
   "metadata": {
    "scrolled": true
   },
   "outputs": [
    {
     "data": {
      "text/html": [
       "<div>\n",
       "<style scoped>\n",
       "    .dataframe tbody tr th:only-of-type {\n",
       "        vertical-align: middle;\n",
       "    }\n",
       "\n",
       "    .dataframe tbody tr th {\n",
       "        vertical-align: top;\n",
       "    }\n",
       "\n",
       "    .dataframe thead th {\n",
       "        text-align: right;\n",
       "    }\n",
       "</style>\n",
       "<table border=\"1\" class=\"dataframe\">\n",
       "  <thead>\n",
       "    <tr style=\"text-align: right;\">\n",
       "      <th></th>\n",
       "      <th>Age</th>\n",
       "      <th>Gender</th>\n",
       "      <th>BMI</th>\n",
       "      <th>Children</th>\n",
       "      <th>Smoker</th>\n",
       "      <th>Region</th>\n",
       "      <th>Expenses</th>\n",
       "    </tr>\n",
       "  </thead>\n",
       "  <tbody>\n",
       "    <tr>\n",
       "      <th>0</th>\n",
       "      <td>19</td>\n",
       "      <td>1</td>\n",
       "      <td>27.9</td>\n",
       "      <td>0</td>\n",
       "      <td>1</td>\n",
       "      <td>2</td>\n",
       "      <td>16884.92</td>\n",
       "    </tr>\n",
       "    <tr>\n",
       "      <th>1</th>\n",
       "      <td>18</td>\n",
       "      <td>0</td>\n",
       "      <td>33.8</td>\n",
       "      <td>1</td>\n",
       "      <td>0</td>\n",
       "      <td>1</td>\n",
       "      <td>1725.55</td>\n",
       "    </tr>\n",
       "    <tr>\n",
       "      <th>2</th>\n",
       "      <td>28</td>\n",
       "      <td>0</td>\n",
       "      <td>33.0</td>\n",
       "      <td>3</td>\n",
       "      <td>0</td>\n",
       "      <td>1</td>\n",
       "      <td>4449.46</td>\n",
       "    </tr>\n",
       "    <tr>\n",
       "      <th>3</th>\n",
       "      <td>33</td>\n",
       "      <td>0</td>\n",
       "      <td>22.7</td>\n",
       "      <td>0</td>\n",
       "      <td>0</td>\n",
       "      <td>3</td>\n",
       "      <td>21984.47</td>\n",
       "    </tr>\n",
       "    <tr>\n",
       "      <th>4</th>\n",
       "      <td>32</td>\n",
       "      <td>0</td>\n",
       "      <td>28.9</td>\n",
       "      <td>0</td>\n",
       "      <td>0</td>\n",
       "      <td>3</td>\n",
       "      <td>3866.86</td>\n",
       "    </tr>\n",
       "  </tbody>\n",
       "</table>\n",
       "</div>"
      ],
      "text/plain": [
       "   Age  Gender   BMI  Children  Smoker  Region  Expenses\n",
       "0   19       1  27.9         0       1       2  16884.92\n",
       "1   18       0  33.8         1       0       1   1725.55\n",
       "2   28       0  33.0         3       0       1   4449.46\n",
       "3   33       0  22.7         0       0       3  21984.47\n",
       "4   32       0  28.9         0       0       3   3866.86"
      ]
     },
     "execution_count": 24,
     "metadata": {},
     "output_type": "execute_result"
    }
   ],
   "source": [
    "df.head()"
   ]
  },
  {
   "cell_type": "code",
   "execution_count": 25,
   "id": "43761896-814b-403e-923d-d6d8b2758215",
   "metadata": {},
   "outputs": [
    {
     "data": {
      "text/plain": [
       "Age           int64\n",
       "Gender        int64\n",
       "BMI         float64\n",
       "Children      int64\n",
       "Smoker        int64\n",
       "Region        int64\n",
       "Expenses    float64\n",
       "dtype: object"
      ]
     },
     "execution_count": 25,
     "metadata": {},
     "output_type": "execute_result"
    }
   ],
   "source": [
    "df.dtypes"
   ]
  },
  {
   "cell_type": "markdown",
   "id": "1e2fa4ee-c370-4390-9fed-10036bc25cae",
   "metadata": {
    "jp-MarkdownHeadingCollapsed": true
   },
   "source": [
    "### Min Max Scaling "
   ]
  },
  {
   "cell_type": "code",
   "execution_count": 26,
   "id": "a654688c-12b3-4818-988f-f9996e1d7073",
   "metadata": {},
   "outputs": [],
   "source": [
    "from sklearn.preprocessing import MinMaxScaler\n",
    "scaler = MinMaxScaler()"
   ]
  },
  {
   "cell_type": "code",
   "execution_count": 27,
   "id": "9ec6351d-64e7-4af8-bab9-3cbfa90c754f",
   "metadata": {},
   "outputs": [
    {
     "data": {
      "text/plain": [
       "['Age', 'Gender', 'BMI', 'Children', 'Smoker', 'Region']"
      ]
     },
     "execution_count": 27,
     "metadata": {},
     "output_type": "execute_result"
    }
   ],
   "source": [
    "# Expenses column is Taregt COlumn\n",
    "features_to_normalize = ['Age', 'Gender', 'BMI', 'Children', 'Smoker', 'Region']\n",
    "features_to_normalize"
   ]
  },
  {
   "cell_type": "code",
   "execution_count": 28,
   "id": "fb4c77a4-5bcb-44c9-9781-70e68bace311",
   "metadata": {},
   "outputs": [],
   "source": [
    "df[features_to_normalize] = scaler.fit_transform(df[features_to_normalize])"
   ]
  },
  {
   "cell_type": "code",
   "execution_count": 29,
   "id": "33ce3fcd-5896-4068-959d-0e0d6f54f3ba",
   "metadata": {},
   "outputs": [
    {
     "data": {
      "text/html": [
       "<div>\n",
       "<style scoped>\n",
       "    .dataframe tbody tr th:only-of-type {\n",
       "        vertical-align: middle;\n",
       "    }\n",
       "\n",
       "    .dataframe tbody tr th {\n",
       "        vertical-align: top;\n",
       "    }\n",
       "\n",
       "    .dataframe thead th {\n",
       "        text-align: right;\n",
       "    }\n",
       "</style>\n",
       "<table border=\"1\" class=\"dataframe\">\n",
       "  <thead>\n",
       "    <tr style=\"text-align: right;\">\n",
       "      <th></th>\n",
       "      <th>Age</th>\n",
       "      <th>Gender</th>\n",
       "      <th>BMI</th>\n",
       "      <th>Children</th>\n",
       "      <th>Smoker</th>\n",
       "      <th>Region</th>\n",
       "      <th>Expenses</th>\n",
       "    </tr>\n",
       "  </thead>\n",
       "  <tbody>\n",
       "    <tr>\n",
       "      <th>0</th>\n",
       "      <td>0.021739</td>\n",
       "      <td>1.0</td>\n",
       "      <td>0.320755</td>\n",
       "      <td>0.481481</td>\n",
       "      <td>1.0</td>\n",
       "      <td>0.333333</td>\n",
       "      <td>16884.92</td>\n",
       "    </tr>\n",
       "    <tr>\n",
       "      <th>1</th>\n",
       "      <td>0.000000</td>\n",
       "      <td>0.0</td>\n",
       "      <td>0.479784</td>\n",
       "      <td>0.488889</td>\n",
       "      <td>0.0</td>\n",
       "      <td>0.000000</td>\n",
       "      <td>1725.55</td>\n",
       "    </tr>\n",
       "    <tr>\n",
       "      <th>2</th>\n",
       "      <td>0.217391</td>\n",
       "      <td>0.0</td>\n",
       "      <td>0.458221</td>\n",
       "      <td>0.503704</td>\n",
       "      <td>0.0</td>\n",
       "      <td>0.000000</td>\n",
       "      <td>4449.46</td>\n",
       "    </tr>\n",
       "    <tr>\n",
       "      <th>3</th>\n",
       "      <td>0.326087</td>\n",
       "      <td>0.0</td>\n",
       "      <td>0.180593</td>\n",
       "      <td>0.481481</td>\n",
       "      <td>0.0</td>\n",
       "      <td>0.666667</td>\n",
       "      <td>21984.47</td>\n",
       "    </tr>\n",
       "    <tr>\n",
       "      <th>4</th>\n",
       "      <td>0.304348</td>\n",
       "      <td>0.0</td>\n",
       "      <td>0.347709</td>\n",
       "      <td>0.481481</td>\n",
       "      <td>0.0</td>\n",
       "      <td>0.666667</td>\n",
       "      <td>3866.86</td>\n",
       "    </tr>\n",
       "  </tbody>\n",
       "</table>\n",
       "</div>"
      ],
      "text/plain": [
       "        Age  Gender       BMI  Children  Smoker    Region  Expenses\n",
       "0  0.021739     1.0  0.320755  0.481481     1.0  0.333333  16884.92\n",
       "1  0.000000     0.0  0.479784  0.488889     0.0  0.000000   1725.55\n",
       "2  0.217391     0.0  0.458221  0.503704     0.0  0.000000   4449.46\n",
       "3  0.326087     0.0  0.180593  0.481481     0.0  0.666667  21984.47\n",
       "4  0.304348     0.0  0.347709  0.481481     0.0  0.666667   3866.86"
      ]
     },
     "execution_count": 29,
     "metadata": {},
     "output_type": "execute_result"
    }
   ],
   "source": [
    "df.head()"
   ]
  },
  {
   "cell_type": "markdown",
   "id": "a9d03e89-cc4a-4991-92df-4edd7742d75e",
   "metadata": {
    "jp-MarkdownHeadingCollapsed": true
   },
   "source": [
    "## 2. Splitting the Data"
   ]
  },
  {
   "cell_type": "code",
   "execution_count": 30,
   "id": "d260fb92-a0e5-4724-a808-e6568a28ca73",
   "metadata": {},
   "outputs": [],
   "source": [
    "X = df.drop('Expenses',axis=1) # Features\n",
    "Y = df['Expenses']  # Labels "
   ]
  },
  {
   "cell_type": "code",
   "execution_count": 31,
   "id": "dabd05e9-da59-438f-987e-e850bd3ca4d9",
   "metadata": {},
   "outputs": [
    {
     "data": {
      "text/html": [
       "<div>\n",
       "<style scoped>\n",
       "    .dataframe tbody tr th:only-of-type {\n",
       "        vertical-align: middle;\n",
       "    }\n",
       "\n",
       "    .dataframe tbody tr th {\n",
       "        vertical-align: top;\n",
       "    }\n",
       "\n",
       "    .dataframe thead th {\n",
       "        text-align: right;\n",
       "    }\n",
       "</style>\n",
       "<table border=\"1\" class=\"dataframe\">\n",
       "  <thead>\n",
       "    <tr style=\"text-align: right;\">\n",
       "      <th></th>\n",
       "      <th>Age</th>\n",
       "      <th>Gender</th>\n",
       "      <th>BMI</th>\n",
       "      <th>Children</th>\n",
       "      <th>Smoker</th>\n",
       "      <th>Region</th>\n",
       "    </tr>\n",
       "  </thead>\n",
       "  <tbody>\n",
       "    <tr>\n",
       "      <th>0</th>\n",
       "      <td>0.021739</td>\n",
       "      <td>1.0</td>\n",
       "      <td>0.320755</td>\n",
       "      <td>0.481481</td>\n",
       "      <td>1.0</td>\n",
       "      <td>0.333333</td>\n",
       "    </tr>\n",
       "    <tr>\n",
       "      <th>1</th>\n",
       "      <td>0.000000</td>\n",
       "      <td>0.0</td>\n",
       "      <td>0.479784</td>\n",
       "      <td>0.488889</td>\n",
       "      <td>0.0</td>\n",
       "      <td>0.000000</td>\n",
       "    </tr>\n",
       "    <tr>\n",
       "      <th>2</th>\n",
       "      <td>0.217391</td>\n",
       "      <td>0.0</td>\n",
       "      <td>0.458221</td>\n",
       "      <td>0.503704</td>\n",
       "      <td>0.0</td>\n",
       "      <td>0.000000</td>\n",
       "    </tr>\n",
       "    <tr>\n",
       "      <th>3</th>\n",
       "      <td>0.326087</td>\n",
       "      <td>0.0</td>\n",
       "      <td>0.180593</td>\n",
       "      <td>0.481481</td>\n",
       "      <td>0.0</td>\n",
       "      <td>0.666667</td>\n",
       "    </tr>\n",
       "    <tr>\n",
       "      <th>4</th>\n",
       "      <td>0.304348</td>\n",
       "      <td>0.0</td>\n",
       "      <td>0.347709</td>\n",
       "      <td>0.481481</td>\n",
       "      <td>0.0</td>\n",
       "      <td>0.666667</td>\n",
       "    </tr>\n",
       "  </tbody>\n",
       "</table>\n",
       "</div>"
      ],
      "text/plain": [
       "        Age  Gender       BMI  Children  Smoker    Region\n",
       "0  0.021739     1.0  0.320755  0.481481     1.0  0.333333\n",
       "1  0.000000     0.0  0.479784  0.488889     0.0  0.000000\n",
       "2  0.217391     0.0  0.458221  0.503704     0.0  0.000000\n",
       "3  0.326087     0.0  0.180593  0.481481     0.0  0.666667\n",
       "4  0.304348     0.0  0.347709  0.481481     0.0  0.666667"
      ]
     },
     "execution_count": 31,
     "metadata": {},
     "output_type": "execute_result"
    }
   ],
   "source": [
    "X.head()"
   ]
  },
  {
   "cell_type": "code",
   "execution_count": 32,
   "id": "cf4086e0-b3af-4353-97ef-acfef3d82d3e",
   "metadata": {},
   "outputs": [
    {
     "data": {
      "text/plain": [
       "0    16884.92\n",
       "1     1725.55\n",
       "2     4449.46\n",
       "3    21984.47\n",
       "4     3866.86\n",
       "Name: Expenses, dtype: float64"
      ]
     },
     "execution_count": 32,
     "metadata": {},
     "output_type": "execute_result"
    }
   ],
   "source": [
    "Y.head()"
   ]
  },
  {
   "cell_type": "code",
   "execution_count": 33,
   "id": "debee081-fd8d-4bbd-b3d3-ce4582795890",
   "metadata": {},
   "outputs": [],
   "source": [
    "# Split Ratio ---> 75:25\n",
    "# Training : Testing \n",
    "# Random_State for reproducibility\n",
    "X_train, X_test, y_train, y_test = train_test_split(X, Y, test_size=0.25, random_state=42)"
   ]
  },
  {
   "cell_type": "code",
   "execution_count": 34,
   "id": "b9b67ea4-f01d-4012-b8d9-455b6b981831",
   "metadata": {},
   "outputs": [
    {
     "name": "stdout",
     "output_type": "stream",
     "text": [
      "X_train:\n",
      "           Age  Gender       BMI  Children  Smoker    Region\n",
      "587  0.347826     1.0  0.382749  0.488889     1.0  0.666667\n",
      "\n",
      "X_test:\n",
      "          Age  Gender       BMI  Children  Smoker  Region\n",
      "685  0.76087     0.0  0.280323  0.496296     0.0     1.0\n",
      "\n",
      "y_train:\n",
      " 587    43943.88\n",
      "Name: Expenses, dtype: float64\n",
      "\n",
      "y_test:\n",
      " 685    11244.38\n",
      "Name: Expenses, dtype: float64\n"
     ]
    }
   ],
   "source": [
    "print(\"X_train:\\n\", X_train.head(1))\n",
    "print(\"\\nX_test:\\n\", X_test.head(1))\n",
    "print(\"\\ny_train:\\n\", y_train.head(1))\n",
    "print(\"\\ny_test:\\n\", y_test.head(1))"
   ]
  },
  {
   "cell_type": "markdown",
   "id": "817b03a1-0063-4f0b-9a86-66095f2c0ed9",
   "metadata": {
    "jp-MarkdownHeadingCollapsed": true
   },
   "source": [
    "## 3. Gradient Descent Implementation"
   ]
  },
  {
   "cell_type": "code",
   "execution_count": 35,
   "id": "7b457dfc-cf5d-4b53-af51-c2f3684fa18b",
   "metadata": {},
   "outputs": [
    {
     "data": {
      "text/html": [
       "<div>\n",
       "<style scoped>\n",
       "    .dataframe tbody tr th:only-of-type {\n",
       "        vertical-align: middle;\n",
       "    }\n",
       "\n",
       "    .dataframe tbody tr th {\n",
       "        vertical-align: top;\n",
       "    }\n",
       "\n",
       "    .dataframe thead th {\n",
       "        text-align: right;\n",
       "    }\n",
       "</style>\n",
       "<table border=\"1\" class=\"dataframe\">\n",
       "  <thead>\n",
       "    <tr style=\"text-align: right;\">\n",
       "      <th></th>\n",
       "      <th>Age</th>\n",
       "      <th>Gender</th>\n",
       "      <th>BMI</th>\n",
       "      <th>Children</th>\n",
       "      <th>Smoker</th>\n",
       "      <th>Region</th>\n",
       "    </tr>\n",
       "  </thead>\n",
       "  <tbody>\n",
       "    <tr>\n",
       "      <th>587</th>\n",
       "      <td>0.347826</td>\n",
       "      <td>1.0</td>\n",
       "      <td>0.382749</td>\n",
       "      <td>0.488889</td>\n",
       "      <td>1.0</td>\n",
       "      <td>0.666667</td>\n",
       "    </tr>\n",
       "    <tr>\n",
       "      <th>356</th>\n",
       "      <td>0.608696</td>\n",
       "      <td>0.0</td>\n",
       "      <td>0.752022</td>\n",
       "      <td>0.503704</td>\n",
       "      <td>0.0</td>\n",
       "      <td>0.000000</td>\n",
       "    </tr>\n",
       "    <tr>\n",
       "      <th>992</th>\n",
       "      <td>0.695652</td>\n",
       "      <td>1.0</td>\n",
       "      <td>0.420485</td>\n",
       "      <td>0.496296</td>\n",
       "      <td>0.0</td>\n",
       "      <td>0.333333</td>\n",
       "    </tr>\n",
       "    <tr>\n",
       "      <th>464</th>\n",
       "      <td>0.021739</td>\n",
       "      <td>0.0</td>\n",
       "      <td>0.247978</td>\n",
       "      <td>0.481481</td>\n",
       "      <td>0.0</td>\n",
       "      <td>0.666667</td>\n",
       "    </tr>\n",
       "    <tr>\n",
       "      <th>950</th>\n",
       "      <td>0.847826</td>\n",
       "      <td>0.0</td>\n",
       "      <td>0.061995</td>\n",
       "      <td>0.481481</td>\n",
       "      <td>0.0</td>\n",
       "      <td>1.000000</td>\n",
       "    </tr>\n",
       "  </tbody>\n",
       "</table>\n",
       "</div>"
      ],
      "text/plain": [
       "          Age  Gender       BMI  Children  Smoker    Region\n",
       "587  0.347826     1.0  0.382749  0.488889     1.0  0.666667\n",
       "356  0.608696     0.0  0.752022  0.503704     0.0  0.000000\n",
       "992  0.695652     1.0  0.420485  0.496296     0.0  0.333333\n",
       "464  0.021739     0.0  0.247978  0.481481     0.0  0.666667\n",
       "950  0.847826     0.0  0.061995  0.481481     0.0  1.000000"
      ]
     },
     "execution_count": 35,
     "metadata": {},
     "output_type": "execute_result"
    }
   ],
   "source": [
    "X_train.head()"
   ]
  },
  {
   "cell_type": "code",
   "execution_count": 36,
   "id": "b974e69b-bbd1-469d-b140-c360c148a4a2",
   "metadata": {},
   "outputs": [
    {
     "data": {
      "text/plain": [
       "587    43943.88\n",
       "356     8944.12\n",
       "992    10118.42\n",
       "464     1632.04\n",
       "950    11534.87\n",
       "Name: Expenses, dtype: float64"
      ]
     },
     "execution_count": 36,
     "metadata": {},
     "output_type": "execute_result"
    }
   ],
   "source": [
    "y_train.head()"
   ]
  },
  {
   "cell_type": "code",
   "execution_count": 37,
   "id": "c8e99b57-204f-4b8a-b697-bf6ca59c1436",
   "metadata": {},
   "outputs": [],
   "source": [
    "from sklearn.metrics import mean_squared_error\n",
    "def gradient_descent(X_train, y_train, learning_rate=0.01, n_iterations=10000, decay_rate=None):\n",
    "    if len(X_train.shape) == 1: # For 1D Conversion \n",
    "        X_train = X_train.reshape(-1, 1)\n",
    "        \n",
    "    if len(y_train.shape) == 1: # For 1D Conversion since ytrain is seris so using numpy here \n",
    "        y_train = y_train.to_numpy().reshape(-1, 1)\n",
    "\n",
    "    # X bias term\n",
    "    X_b = np.c_[np.ones((X_train.shape[0], 1)), X_train]\n",
    "\n",
    "    # Data points and features\n",
    "    m, n = X_train.shape[0],X_train.shape[0]\n",
    "\n",
    "    # Weight matrix (W^T)\n",
    "    W = np.random.randn(X_train.shape[1] + 1, 1)\n",
    "\n",
    "    loss_values = []\n",
    "\n",
    "    for iteration in range(n_iterations):\n",
    "        gradients = 1/m * X_b.T.dot(X_b.dot(W) - y_train)\n",
    "        \n",
    "        if decay_rate:\n",
    "            current_learning_rate = learning_rate / (1 + decay_rate * iteration)\n",
    "        else:\n",
    "            current_learning_rate = learning_rate\n",
    "        \n",
    "        W = W - current_learning_rate * gradients\n",
    "        predictions = X_b.dot(W)\n",
    "        loss_values.append(mean_squared_error(y_train, predictions))\n",
    "        \n",
    "        #result_string = f\"Coefficient and Intercept of the Model: {W}\\nLoss Values:\\n{loss_values}\"\n",
    "        #print(result_string)\n",
    "\n",
    "gradient_descent(X_train, y_train) # With Constant_Rate "
   ]
  },
  {
   "cell_type": "code",
   "execution_count": 38,
   "id": "f38d5f6f-1619-4960-8bf6-23724a6e94c2",
   "metadata": {},
   "outputs": [],
   "source": [
    "# Learning Rate Analysis with 0.01 \n",
    "gradient_descent(X_train, y_train, decay_rate=0.01)"
   ]
  },
  {
   "cell_type": "code",
   "execution_count": 39,
   "id": "0cb69b75-1d5c-4328-bae0-0edfe9c50954",
   "metadata": {},
   "outputs": [
    {
     "data": {
      "image/png": "[encoded data removed]",
      "text/plain": [
       "<Figure size 1000x600 with 1 Axes>"
      ]
     },
     "metadata": {},
     "output_type": "display_data"
    }
   ],
   "source": [
    "# Plot for Consant & Decay Learning Rates\n",
    "def gradient_descent(X_train, y_train, learning_rate=0.01, n_iterations=10000, decay_rate=None):\n",
    "    if len(X_train.shape) == 1: # For 1D Conversion \n",
    "        X_train = X_train.reshape(-1, 1)\n",
    "        \n",
    "    if len(y_train.shape) == 1: # For 1D Conversion since ytrain is seris so using numpy here \n",
    "        y_train = y_train.to_numpy().reshape(-1, 1)\n",
    "\n",
    "    # X bias term\n",
    "    X_b = np.c_[np.ones((X_train.shape[0], 1)), X_train]\n",
    "\n",
    "    # Data points and features\n",
    "    m, n = X_train.shape[0], X_train.shape[1]\n",
    "\n",
    "    # Weight matrix (W^T)\n",
    "    W_constant = np.random.randn(n + 1, 1)\n",
    "    W_decaying = np.random.randn(n + 1, 1)\n",
    "\n",
    "    loss_values_constant = []\n",
    "    loss_values_decaying = []\n",
    "\n",
    "    for iteration in range(n_iterations):\n",
    "\n",
    "        gradients_constant = 1/m * X_b.T.dot(X_b.dot(W_constant) - y_train)\n",
    "        W_constant = W_constant - learning_rate * gradients_constant\n",
    "        predictions_constant = X_b.dot(W_constant)\n",
    "        loss_values_constant.append(mean_squared_error(y_train, predictions_constant))\n",
    "\n",
    "        gradients_decaying = 1/m * X_b.T.dot(X_b.dot(W_decaying) - y_train)\n",
    "        if decay_rate:\n",
    "            current_learning_rate_decaying = learning_rate / (1 + decay_rate * iteration)\n",
    "        else:\n",
    "            current_learning_rate_decaying = learning_rate\n",
    "        W_decaying = W_decaying - current_learning_rate_decaying * gradients_decaying\n",
    "        predictions_decaying = X_b.dot(W_decaying)\n",
    "        loss_values_decaying.append(mean_squared_error(y_train, predictions_decaying))\n",
    "\n",
    "    plt.figure(figsize=(10, 6))\n",
    "    plt.plot(range(1, n_iterations + 1), loss_values_constant, label='Constant Learning Rate')\n",
    "    plt.plot(range(1, n_iterations + 1), loss_values_decaying, label='Decaying Learning Rate')\n",
    "    plt.xlabel('Number of Iterations')\n",
    "    plt.ylabel('Mean Squared Error')\n",
    "    plt.title('Loss Values over Iterations')\n",
    "    plt.legend()\n",
    "    plt.show()\n",
    "\n",
    "    return W_constant, loss_values_constant, W_decaying, loss_values_decaying\n",
    "\n",
    "W_constant, loss_values_constant, W_decaying, loss_values_decaying = gradient_descent(X_train, y_train, decay_rate=0.01)"
   ]
  },
  {
   "cell_type": "markdown",
   "id": "35503a76-e131-41c4-92b5-89e647416198",
   "metadata": {
    "jp-MarkdownHeadingCollapsed": true
   },
   "source": [
    "## 4. Model Evaluation"
   ]
  },
  {
   "cell_type": "code",
   "execution_count": 40,
   "id": "4c7b02dc-a26b-49fd-918e-d1a37aff0755",
   "metadata": {},
   "outputs": [
    {
     "data": {
      "image/png": "[encoded data removed]",
      "text/plain": [
       "<Figure size 1000x600 with 1 Axes>"
      ]
     },
     "metadata": {},
     "output_type": "display_data"
    },
    {
     "data": {
      "image/png": "[encoded data removed]",
      "text/plain": [
       "<Figure size 1000x600 with 1 Axes>"
      ]
     },
     "metadata": {},
     "output_type": "display_data"
    },
    {
     "name": "stdout",
     "output_type": "stream",
     "text": [
      "Constant Learning Rate:\n",
      "MAE: 4543.38\n",
      "MSE: 43794979.02\n",
      "\n",
      "Decaying Learning Rate:\n",
      "MAE: 5988.32\n",
      "MSE: 65776966.98\n"
     ]
    }
   ],
   "source": [
    "from sklearn.metrics import mean_absolute_error, mean_squared_error\n",
    "def evaluate_model(X_test, y_test, W_constant, W_decaying):\n",
    "    if len(X_test.shape) == 1: # For 1D Conversion \n",
    "        X_test = X_test.reshape(-1, 1)\n",
    "        \n",
    "    if len(y_test.shape) == 1: # For 1D Conversion since ytrain is seris so using numpy here \n",
    "        y_test = y_test.to_numpy().reshape(-1, 1)\n",
    "\n",
    "    X_test_b = np.c_[np.ones((X_test.shape[0], 1)), X_test]\n",
    "\n",
    "\n",
    "    predictions_test_constant = X_test_b.dot(W_constant)\n",
    "    predictions_test_decaying = X_test_b.dot(W_decaying)\n",
    "\n",
    "    # Computing MAE and MSE for both constant and decaying learning rates\n",
    "    mae_constant = mean_absolute_error(y_test, predictions_test_constant)\n",
    "    mse_constant = mean_squared_error(y_test, predictions_test_constant)\n",
    "\n",
    "    mae_decaying = mean_absolute_error(y_test, predictions_test_decaying)\n",
    "    mse_decaying = mean_squared_error(y_test, predictions_test_decaying)\n",
    "\n",
    "    # Histogram For Consstant \n",
    "    error_distribution_constant = y_test - predictions_test_constant\n",
    "    plt.figure(figsize=(10, 6))\n",
    "    plt.hist(error_distribution_constant, bins=30, edgecolor='black')\n",
    "    plt.title('Error Distribution - Constant Learning Rate')\n",
    "    plt.xlabel('Error')\n",
    "    plt.ylabel('Frequency')\n",
    "    plt.show()\n",
    "\n",
    "    # Histogram For Decying Rate \n",
    "    error_distribution_decaying = y_test - predictions_test_decaying\n",
    "    plt.figure(figsize=(10, 6))\n",
    "    plt.hist(error_distribution_decaying, bins=30, edgecolor='black')\n",
    "    plt.title('Error Distribution - Decaying Learning Rate')\n",
    "    plt.xlabel('Error')\n",
    "    plt.ylabel('Frequency')\n",
    "    plt.show()\n",
    "\n",
    "    print(\"Constant Learning Rate:\")\n",
    "    print(f\"MAE: {mae_constant:.2f}\")\n",
    "    print(f\"MSE: {mse_constant:.2f}\")\n",
    "\n",
    "    print(\"\\nDecaying Learning Rate:\")\n",
    "    print(f\"MAE: {mae_decaying:.2f}\")\n",
    "    print(f\"MSE: {mse_decaying:.2f}\")\n",
    "\n",
    "# Example usage\n",
    "evaluate_model(X_test, y_test, W_constant, W_decaying)\n"
   ]
  },
  {
   "cell_type": "markdown",
   "id": "c0e66be9-0460-462b-94dc-b6a2a805bc99",
   "metadata": {
    "jp-MarkdownHeadingCollapsed": true
   },
   "source": [
    "## 5. Learning Rate Analysis"
   ]
  },
  {
   "cell_type": "code",
   "execution_count": 41,
   "id": "87c0ccde-b7f1-4a0f-bfbf-9a9e1eee0e9c",
   "metadata": {},
   "outputs": [
    {
     "data": {
      "image/png": "[encoded data removed]",
      "text/plain": [
       "<Figure size 1000x600 with 1 Axes>"
      ]
     },
     "metadata": {},
     "output_type": "display_data"
    }
   ],
   "source": [
    "from sklearn.preprocessing import StandardScaler\n",
    "\n",
    "def learning_rate_analysis(X, y, learning_rates, n_iterations=1000):\n",
    "\n",
    "    # Convert y to a NumPy array if it's a Pandas Series\n",
    "    if isinstance(y, pd.Series):\n",
    "        y = y.to_numpy()\n",
    "\n",
    "    # 2d to 1D Conversion\n",
    "    if len(X.shape) == 1:\n",
    "        X = X.reshape(-1, 1)\n",
    "    if len(y.shape) == 1:\n",
    "        y = y.reshape(-1, 1)\n",
    "\n",
    "    X_train, X_test, y_train, y_test = train_test_split(X, y, test_size=0.2, random_state=42)\n",
    "\n",
    "    scaler = StandardScaler()\n",
    "    X_train_scaled = scaler.fit_transform(X_train)\n",
    "    X_test_scaled = scaler.transform(X_test)\n",
    "\n",
    "    W = np.random.randn(X_train_scaled.shape[1] + 1, 1)\n",
    "\n",
    "    X_train_b = np.c_[np.ones((X_train_scaled.shape[0], 1)), X_train_scaled]\n",
    "\n",
    "    loss_values = []\n",
    "\n",
    "    for learning_rate in learning_rates:\n",
    "        W_current = W.copy()\n",
    "\n",
    "        local_loss_values = []  \n",
    "\n",
    "        for iteration in range(n_iterations):\n",
    "            gradients = 1/X_train_b.shape[0] * X_train_b.T.dot(X_train_b.dot(W_current) - y_train)\n",
    "            W_current = W_current - learning_rate * gradients\n",
    "\n",
    "            predictions = X_train_b.dot(W_current)\n",
    "            local_loss_values.append(mean_squared_error(y_train, predictions))\n",
    "\n",
    "        loss_values.append(local_loss_values)\n",
    "\n",
    "    plt.figure(figsize=(10, 6))\n",
    "    for i, learning_rate in enumerate(learning_rates):\n",
    "        plt.plot(range(n_iterations), loss_values[i], label=f'LR={learning_rate}')\n",
    "\n",
    "    plt.xlabel('Iterations')\n",
    "    plt.ylabel('Mean Squared Error')\n",
    "    plt.title('Learning Rate Analysis')\n",
    "    plt.legend()\n",
    "    plt.show()\n",
    "\n",
    "    return loss_values\n",
    "\n",
    "learning_rates_to_analyze = [0.01, 0.05, 0.1, 0.5]\n",
    "loss_values = learning_rate_analysis(X, Y, learning_rates_to_analyze)"
   ]
  },
  {
   "cell_type": "markdown",
   "id": "52c18bbe-3163-4577-8fbe-2aff4debc45b",
   "metadata": {
    "jp-MarkdownHeadingCollapsed": true
   },
   "source": [
    "## 6. Scikit-learn Implementation"
   ]
  },
  {
   "cell_type": "code",
   "execution_count": 42,
   "id": "c635f844-d20b-4ec4-886e-a7b1675e987b",
   "metadata": {},
   "outputs": [
    {
     "name": "stdout",
     "output_type": "stream",
     "text": [
      "MAE: 4743.839512329654\n",
      "MSE: 47119179.47700916\n"
     ]
    }
   ],
   "source": [
    "from sklearn.linear_model import LinearRegression\n",
    "def scikit_learn_regression(X, y):\n",
    "    X_train, X_test, y_train, y_test = train_test_split(X, y, test_size=0.2, random_state=42)\n",
    "\n",
    "    scaler = StandardScaler()\n",
    "    X_train_scaled = scaler.fit_transform(X_train)\n",
    "    X_test_scaled = scaler.transform(X_test)\n",
    "\n",
    "    model = LinearRegression()\n",
    "\n",
    "    model.fit(X_train_scaled, y_train)\n",
    "\n",
    "    predictions = model.predict(X_test_scaled)\n",
    "\n",
    "    # MSE & MAE Comparsion\n",
    "    mae = mean_absolute_error(y_test, predictions)\n",
    "    mse = mean_squared_error(y_test, predictions)\n",
    "\n",
    "    return mae, mse\n",
    "\n",
    "mae, mse = scikit_learn_regression(X, Y)\n",
    "print(\"MAE:\", mae)\n",
    "print(\"MSE:\", mse)"
   ]
  },
  {
   "cell_type": "markdown",
   "id": "2bfef8bf-f1a4-4c03-a26f-96a8fe763946",
   "metadata": {},
   "source": [
    "## 7. Normal Equation Implementation"
   ]
  },
  {
   "cell_type": "code",
   "execution_count": 43,
   "id": "3e3a1660-be8f-4d3a-8033-274c0cf88026",
   "metadata": {},
   "outputs": [
    {
     "name": "stdout",
     "output_type": "stream",
     "text": [
      "MAE (Normal Equation): 4743.839512329654\n",
      "MSE (Normal Equation): 47119179.477009155\n"
     ]
    }
   ],
   "source": [
    "def normal_equation_regression(X, y):\n",
    "    X_train, X_test, y_train, y_test = train_test_split(X, y, test_size=0.2, random_state=42)\n",
    "\n",
    "    scaler = StandardScaler()\n",
    "    X_train_scaled = scaler.fit_transform(X_train)\n",
    "    X_test_scaled = scaler.transform(X_test)\n",
    "\n",
    "    X_train_b = np.c_[np.ones((X_train_scaled.shape[0], 1)), X_train_scaled]\n",
    "\n",
    "    theta = np.linalg.inv(X_train_b.T.dot(X_train_b)).dot(X_train_b.T).dot(y_train)\n",
    "\n",
    "    X_test_b = np.c_[np.ones((X_test_scaled.shape[0], 1)), X_test_scaled]\n",
    "\n",
    "    predictions = X_test_b.dot(theta)\n",
    "\n",
    "    mae = mean_absolute_error(y_test, predictions)\n",
    "    mse = mean_squared_error(y_test, predictions)\n",
    "\n",
    "    return mae, mse\n",
    "\n",
    "mae_normal, mse_normal = normal_equation_regression(X, Y)\n",
    "print(\"MAE (Normal Equation):\", mae_normal)\n",
    "print(\"MSE (Normal Equation):\", mse_normal)\n"
   ]
  },
  {
   "cell_type": "markdown",
   "id": "6a67430a-6123-4207-bf99-71e587c45618",
   "metadata": {},
   "source": [
    "#### Observation 💡💡💡:\n",
    "- MAE and MSE are almost Same for Linear Regression Model and Normal Equation because both use Linear Regression Model "
   ]
  },
  {
   "cell_type": "code",
   "execution_count": 44,
   "id": "f5f9e442-e9e8-4f1f-a353-35ea6f2e3be9",
   "metadata": {},
   "outputs": [
    {
     "name": "stdout",
     "output_type": "stream",
     "text": [
      "Gradient Descent - MAE: 4618.5731, MSE: 45290930.4499\n"
     ]
    }
   ],
   "source": [
    "# MAE & MSE Calcualtion for Gradient_Descent \n",
    "def gradient_descent(X, y, learning_rate=0.01, n_iterations=1000, decay_rate=None):\n",
    "    if len(X.shape) == 1:  # For 1D Conversion\n",
    "        X = X.reshape(-1, 1)\n",
    "\n",
    "    if len(y.shape) == 1:  # For 1D Conversion since ytrain is series so using numpy here\n",
    "        y = y.to_numpy().reshape(-1, 1)\n",
    "\n",
    "    X_b = np.c_[np.ones((X.shape[0], 1)), X]\n",
    "\n",
    "    m, n = X.shape[0], X.shape[1]\n",
    "\n",
    "    W = np.random.randn(n + 1, 1)\n",
    "\n",
    "    loss_values = []\n",
    "\n",
    "    for iteration in range(n_iterations):\n",
    "        gradients = 1/m * X_b.T.dot(X_b.dot(W) - y)\n",
    "\n",
    "        if decay_rate:\n",
    "            current_learning_rate = learning_rate / (1 + decay_rate * iteration)\n",
    "        else:\n",
    "            current_learning_rate = learning_rate\n",
    "\n",
    "        W = W - current_learning_rate * gradients\n",
    "        predictions = X_b.dot(W)\n",
    "        loss_values.append(mean_squared_error(y, predictions))\n",
    "\n",
    "    return W, loss_values\n",
    "\n",
    "scaler = StandardScaler()\n",
    "X_train_scaled = scaler.fit_transform(X_train)\n",
    "X_test_scaled = scaler.transform(X_test)\n",
    "\n",
    "W_gradient_descent, loss_values_gradient_descent = gradient_descent(X_train_scaled, y_train)\n",
    "mae_gradient_descent = mean_absolute_error(y_test, np.c_[np.ones((X_test_scaled.shape[0], 1)), X_test_scaled].dot(W_gradient_descent))\n",
    "mse_gradient_descent = mean_squared_error(y_test, np.c_[np.ones((X_test_scaled.shape[0], 1)), X_test_scaled].dot(W_gradient_descent))\n",
    "print(f\"Gradient Descent - MAE: {mae_gradient_descent:.4f}, MSE: {mse_gradient_descent:.4f}\")\n"
   ]
  },
  {
   "cell_type": "code",
   "execution_count": 45,
   "id": "4774669b-8e0e-4387-8c27-3d443e111f8d",
   "metadata": {},
   "outputs": [
    {
     "name": "stdout",
     "output_type": "stream",
     "text": [
      "Gradient Descent - Time: 0.7779s, MAE: 0.0897, MSE: 0.0120\n",
      "Normal Equation - Time: 0.0000s, MAE: 0.0860, MSE: 0.0118\n",
      "Scikit-learn Linear Regression - Time: 0.0105s, MAE: 0.0860, MSE: 0.0118\n"
     ]
    }
   ],
   "source": [
    "import time\n",
    "np.random.seed(42)\n",
    "X = np.random.rand(1000, 5)\n",
    "theta_true = np.random.rand(6, 1)\n",
    "X_b = np.c_[np.ones((1000, 1)), X]\n",
    "y = X_b.dot(theta_true) + np.random.randn(1000, 1) * 0.1  # Adding noise for realism\n",
    "X_train, X_test, y_train, y_test = train_test_split(X, y, test_size=0.2, random_state=42)\n",
    "\n",
    "\n",
    "scaler = StandardScaler()\n",
    "X_train_scaled = scaler.fit_transform(X_train)\n",
    "X_test_scaled = scaler.transform(X_test)\n",
    "\n",
    "# Computational efficiency for Gradient Descent\n",
    "start_time = time.time()\n",
    "W_gradient_descent, _ = gradient_descent(X_train_scaled, y_train)\n",
    "end_time = time.time()\n",
    "mae_gradient_descent = mean_absolute_error(y_test, np.c_[np.ones((X_test_scaled.shape[0], 1)), X_test_scaled].dot(W_gradient_descent))\n",
    "mse_gradient_descent = mean_squared_error(y_test, np.c_[np.ones((X_test_scaled.shape[0], 1)), X_test_scaled].dot(W_gradient_descent))\n",
    "ct_gradient = end_time-start_time\n",
    "print(f\"Gradient Descent - Time: {ct_gradient:.4f}s, MAE: {mae_gradient_descent:.4f}, MSE: {mse_gradient_descent:.4f}\")\n",
    "\n",
    "# For Normal Equation\n",
    "start_time = time.time()\n",
    "mae_normal, mse_normal = normal_equation_regression(X_train, y_train)\n",
    "end_time = time.time()\n",
    "ct_normal = end_time-start_time\n",
    "print(f\"Normal Equation - Time: {ct_normal:.4f}s, MAE: {mae_normal:.4f}, MSE: {mse_normal:.4f}\")\n",
    "\n",
    "# For scikit-learn Linear Regression\n",
    "start_time = time.time()\n",
    "mae_scikit_learn, mse_scikit_learn = scikit_learn_regression(X_train, y_train)\n",
    "end_time = time.time()\n",
    "ct_scikit_learn = end_time - start_time \n",
    "print(f\"Scikit-learn Linear Regression - Time: {ct_scikit_learn:.4f}s, MAE: {mae_scikit_learn:.4f}, MSE: {mse_scikit_learn:.4f}\")"
   ]
  },
  {
   "cell_type": "code",
   "execution_count": 46,
   "id": "9fb60abd-35ff-418c-9930-049a99411fec",
   "metadata": {},
   "outputs": [
    {
     "data": {
      "text/plain": [
       "(0.089650517747645, 0.086048081464194, 0.08604808146419404)"
      ]
     },
     "execution_count": 46,
     "metadata": {},
     "output_type": "execute_result"
    }
   ],
   "source": [
    "mae_gradient_descent,mae_normal,mae_scikit_learn"
   ]
  },
  {
   "cell_type": "code",
   "execution_count": 47,
   "id": "e2e425ed-0426-4af8-a73f-08c4fc7fa0d7",
   "metadata": {},
   "outputs": [
    {
     "data": {
      "text/plain": [
       "(0.012018391740325483, 0.011786053686983744, 0.011786053686983738)"
      ]
     },
     "execution_count": 47,
     "metadata": {},
     "output_type": "execute_result"
    }
   ],
   "source": [
    "mse_gradient_descent,mse_normal,mse_scikit_learn"
   ]
  },
  {
   "cell_type": "code",
   "execution_count": 48,
   "id": "7cf2d745-d8cc-4a3f-b0f8-e04344eefe63",
   "metadata": {},
   "outputs": [
    {
     "data": {
      "text/plain": [
       "(0.7779483795166016, 0.0, 0.01051473617553711)"
      ]
     },
     "execution_count": 48,
     "metadata": {},
     "output_type": "execute_result"
    }
   ],
   "source": [
    "ct_gradient,ct_normal,ct_scikit_learn"
   ]
  },
  {
   "cell_type": "code",
   "execution_count": 51,
   "id": "891297fa-37ce-43f7-9160-0ff8dc74a07b",
   "metadata": {},
   "outputs": [
    {
     "data": {
      "image/png": "[encoded data removed]",
      "text/plain": [
       "<Figure size 1000x500 with 3 Axes>"
      ]
     },
     "metadata": {},
     "output_type": "display_data"
    }
   ],
   "source": [
    "import matplotlib.pyplot as plt\n",
    "\n",
    "# Values\n",
    "mae_values = [mae_gradient_descent, mae_normal, mae_scikit_learn]\n",
    "mse_values = [mse_gradient_descent, mse_normal, mse_scikit_learn]\n",
    "ct_values = [ct_gradient, ct_normal, ct_scikit_learn]\n",
    "\n",
    "# Types\n",
    "methods = ['Gradient Descent', 'Normal Equation', 'Scikit-learn']\n",
    "\n",
    "# MAE plot\n",
    "plt.figure(figsize=(10, 5))\n",
    "plt.subplot(1, 3, 1)\n",
    "plt.barh(methods, mae_values, color=['yellow', 'green', 'orange'])\n",
    "plt.title('MAE Comparison')\n",
    "plt.ylabel('MAE')\n",
    "\n",
    "# MSE Plot\n",
    "plt.subplot(1, 3, 2)\n",
    "plt.barh(methods, mse_values, color=['yellow', 'green', 'orange'])\n",
    "plt.title('MSE Comparison')\n",
    "plt.ylabel('MSE')\n",
    "\n",
    "# Computational Time Plot\n",
    "plt.subplot(1, 3, 3)\n",
    "plt.barh(methods, ct_values, color=['blue', 'green', 'orange'])\n",
    "plt.title('Computational Time Comparison')\n",
    "plt.ylabel('Computational Time (s)')\n",
    "\n",
    "plt.tight_layout()\n",
    "plt.show()\n"
   ]
  }
 ],
 "metadata": {
  "kernelspec": {
   "display_name": "Python 3 (ipykernel)",
   "language": "python",
   "name": "python3"
  },
  "language_info": {
   "codemirror_mode": {
    "name": "ipython",
    "version": 3
   },
   "file_extension": ".py",
   "mimetype": "text/x-python",
   "name": "python",
   "nbconvert_exporter": "python",
   "pygments_lexer": "ipython3",
   "version": "3.9.0"
  }
 },
 "nbformat": 4,
 "nbformat_minor": 5
}
